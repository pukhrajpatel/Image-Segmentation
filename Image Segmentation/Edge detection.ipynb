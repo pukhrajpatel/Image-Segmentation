{
 "cells": [
  {
   "cell_type": "code",
   "execution_count": 1,
   "metadata": {},
   "outputs": [],
   "source": [
    "import cv2\n",
    "import numpy as np\n",
    "\n",
    "img = cv2.imread('2j.jpg')\n",
    "img = cv2.resize(img,(800,600))\n",
    "gray = cv2.cvtColor(img, cv2.COLOR_BGR2GRAY)\n",
    "img_gaussian = cv2.GaussianBlur(gray,(3,3),0)\n",
    "\n",
    "#canny\n",
    "img_canny = cv2.Canny(img,100,200)\n",
    "\n",
    "#Roberts\n",
    "Roberts_maskx = np.array([[-1,0],[1,0]])\n",
    "Roberts_masky = np.array([[-1,1],[0,0]])\n",
    "img_robertsx = cv2.filter2D(img_gaussian,-1,Roberts_maskx)\n",
    "img_robertsy = cv2.filter2D(img_gaussian,-1,Roberts_masky)\n",
    "img_roberts = img_robertsx + img_robertsy\n",
    "\n",
    "#prewitt\n",
    "prewitt_maskx = np.array([[-1,-1,-1],[0,0,0],[1,1,1]])\n",
    "prewitt_masky = np.array([[-1,0,1],[-1,0,1],[-1,0,1]])\n",
    "img_prewittx = cv2.filter2D(img_gaussian, -1, prewitt_maskx)\n",
    "img_prewitty = cv2.filter2D(img_gaussian, -1, prewitt_masky)\n",
    "img_prewitt = img_prewittx + img_prewitty\n",
    "\n",
    "#sobel\n",
    "sobel_maskx = np.array([[-1,-2,-1],[0,0,0],[1,2,1]])\n",
    "sobel_masky = np.array([[-1,0,1],[-2,0,2],[-1,0,1]])\n",
    "img_sobelx = cv2.filter2D(img_gaussian, -1, sobel_maskx)\n",
    "img_sobely = cv2.filter2D(img_gaussian, -1, sobel_masky)\n",
    "img_sobel = img_sobelx + img_sobely\n",
    "\n",
    "#Laplacian\n",
    "Laplacian_mask = np.array([[0,1,0],[1,-4,1],[0,1,0]])\n",
    "img_Laplacian = cv2.filter2D(img_gaussian,-1,Laplacian_mask)\n",
    "\n",
    "cv2.imshow(\"Original Image\", img)\n",
    "cv2.imshow('Roberts',img_roberts)\n",
    "cv2.imshow(\"Canny\", img_canny)\n",
    "cv2.imshow(\"Sobel\", img_sobel)\n",
    "cv2.imshow(\"Prewitt\", img_prewitt)\n",
    "cv2.imshow('Laplacian',img_Laplacian)\n",
    "\n",
    "\n",
    "cv2.waitKey(0)\n",
    "cv2.destroyAllWindows()"
   ]
  }
 ],
 "metadata": {
  "kernelspec": {
   "display_name": "Python 3",
   "language": "python",
   "name": "python3"
  },
  "language_info": {
   "codemirror_mode": {
    "name": "ipython",
    "version": 3
   },
   "file_extension": ".py",
   "mimetype": "text/x-python",
   "name": "python",
   "nbconvert_exporter": "python",
   "pygments_lexer": "ipython3",
   "version": "3.8.5"
  }
 },
 "nbformat": 4,
 "nbformat_minor": 4
}
